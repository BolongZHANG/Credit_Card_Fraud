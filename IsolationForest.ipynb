{
 "cells": [
  {
   "cell_type": "code",
   "execution_count": 1,
   "metadata": {},
   "outputs": [],
   "source": [
    "import pandas as pd\n",
    "import numpy as np\n",
    "import matplotlib.pyplot as plt\n",
    "from sklearn.svm import OneClassSVM\n",
    "from sklearn.ensemble import IsolationForest\n",
    "from sklearn.neighbors import LocalOutlierFactor\n",
    "from sklearn.covariance import EllipticEnvelope\n",
    "from sklearn.metrics import auc, roc_curve, precision_recall_curve, precision_score, recall_score, f1_score, confusion_matrix"
   ]
  },
  {
   "cell_type": "code",
   "execution_count": 2,
   "metadata": {},
   "outputs": [],
   "source": [
    "X_train = pd.read_csv('data/X_train.csv')\n",
    "X_test = pd.read_csv('data/X_test.csv')\n",
    "y_train = pd.read_csv('data/y_train.csv', header=None)[0]\n",
    "y_test = pd.read_csv('data/y_test.csv', header=None)[0]\n",
    "X_train.drop(['Time'], axis=1, inplace=True)\n",
    "X_test.drop(['Time'], axis=1, inplace=True)"
   ]
  },
  {
   "cell_type": "code",
   "execution_count": 3,
   "metadata": {},
   "outputs": [
    {
     "data": {
      "text/plain": [
       "0.0016853594430288317"
      ]
     },
     "execution_count": 3,
     "metadata": {},
     "output_type": "execute_result"
    }
   ],
   "source": [
    "cnts = y_train.value_counts().tolist()\n",
    "cnts[1] / sum(cnts)"
   ]
  },
  {
   "cell_type": "code",
   "execution_count": 4,
   "metadata": {},
   "outputs": [
    {
     "data": {
      "text/plain": [
       "0.0018257785892349286"
      ]
     },
     "execution_count": 4,
     "metadata": {},
     "output_type": "execute_result"
    }
   ],
   "source": [
    "cnts = y_test.value_counts().tolist()\n",
    "cnts[1] / sum(cnts)"
   ]
  },
  {
   "cell_type": "code",
   "execution_count": null,
   "metadata": {},
   "outputs": [],
   "source": [
    "def print_metrics(y_train, y_train_pred, y_test, y_test_pred):\n",
    "    print (\"---Train---\")\n",
    "    print (\"Precision: %.4f\" % (precision_score(y_train, y_train_pred)))\n",
    "    print (\"Recall: %.4f\" % (recall_score(y_train, y_train_pred)))\n",
    "    print (\"F1: %.4f\" % (f1_score(y_train, y_train_pred)))\n",
    "    print (\"Confusion matrix:\")\n",
    "    print (confusion_matrix(y_train, y_train_pred))\n",
    "    print (\"\\n---Test---\")\n",
    "    print (\"Precision: %.4f\" % (precision_score(y_test, y_test_pred)))\n",
    "    print (\"Recall: %.4f\" % (recall_score(y_test, y_test_pred)))\n",
    "    print (\"F1: %.4f\" % (f1_score(y_test, y_test_pred)))\n",
    "    print (\"Confusion matrix:\")\n",
    "    print (confusion_matrix(y_test, y_test_pred))\n",
    "    return\n",
    "\n",
    "def aucpr(y_true, y_score):\n",
    "    precision, recall, threshold = precision_recall_curve(y_true, y_score)\n",
    "    indices = np.argsort(precision)\n",
    "    precision = precision[indices]\n",
    "    recall = recall[indices]\n",
    "    plt.plot(recall, precision, '.')\n",
    "    plt.show()\n",
    "    return auc(precision, recall)"
   ]
  },
  {
   "cell_type": "code",
   "execution_count": null,
   "metadata": {
    "scrolled": false
   },
   "outputs": [],
   "source": [
    "train_prec = []\n",
    "test_prec = []\n",
    "train_rec = []\n",
    "test_rec = []\n",
    "train_f1 = []\n",
    "test_f1 = []\n",
    "for ms in np.arange(0.1, 1, 0.1):\n",
    "    isof = IsolationForest(n_estimators=200, contamination=0.0168, behaviour='new', max_samples=ms, n_jobs=3, random_state=0)\n",
    "    isof.fit(X_train)\n",
    "    \n",
    "    y_train_pred = isof.predict(X_train)\n",
    "    y_test_pred = isof.predict(X_test)\n",
    "    y_train_pred = np.array([pred==-1 for pred in y_train_pred], dtype=int)\n",
    "    y_test_pred = np.array([pred==-1 for pred in y_test_pred], dtype=int)\n",
    "    \n",
    "    train_prec.append(precision_score(y_train, y_train_pred))\n",
    "    test_prec.append(precision_score(y_test, y_test_pred))\n",
    "    train_rec.append(recall_score(y_train, y_train_pred))\n",
    "    test_rec.append(recall_score(y_test, y_test_pred))\n",
    "    train_f1.append(f1_score(y_train, y_train_pred))\n",
    "    test_f1.append(f1_score(y_test, y_test_pred))\n",
    "    \n",
    "plt.plot(np.arange(0.1, 1, 0.1), train_prec, label='train')\n",
    "plt.plot(np.arange(0.1, 1, 0.1), test_prec, label='test')\n",
    "plt.title(\"Precision - max_samples\")\n",
    "plt.legend()\n",
    "plt.show()\n",
    "    \n",
    "plt.plot(np.arange(0.1, 1, 0.1), train_rec, label='train')\n",
    "plt.plot(np.arange(0.1, 1, 0.1), test_rec, label='test')\n",
    "plt.title(\"Recall - max_samples\")\n",
    "plt.legend()\n",
    "plt.show()    \n",
    "\n",
    "plt.plot(np.arange(0.1, 1, 0.1), train_f1, label='train')\n",
    "plt.plot(np.arange(0.1, 1, 0.1), test_f1, label='test')\n",
    "plt.title(\"F1 - max_samples\")\n",
    "plt.legend()\n",
    "plt.show()"
   ]
  },
  {
   "cell_type": "code",
   "execution_count": null,
   "metadata": {
    "scrolled": false
   },
   "outputs": [],
   "source": [
    "isof = IsolationForest(n_estimators=200, contamination=0.017, behaviour='new', max_samples=0.9, n_jobs=3, random_state=0)\n",
    "isof.fit(X_train)\n",
    "\n",
    "y_train_pred = isof.predict(X_train)\n",
    "y_test_pred = isof.predict(X_test)\n",
    "y_train_pred = np.array([pred==-1 for pred in y_train_pred], dtype=int)\n",
    "y_test_pred = np.array([pred==-1 for pred in y_test_pred], dtype=int)\n",
    "print_metrics(y_train, y_train_pred, y_test, y_test_pred)\n",
    "\n",
    "y_train_score = -isof.score_samples(X_train)\n",
    "y_test_score = -isof.score_samples(X_test)\n",
    "aucpr(y_train, y_train_score), aucpr(y_test, y_test_score)"
   ]
  },
  {
   "cell_type": "code",
   "execution_count": null,
   "metadata": {},
   "outputs": [],
   "source": []
  },
  {
   "cell_type": "code",
   "execution_count": null,
   "metadata": {},
   "outputs": [],
   "source": [
    "fpr, tpr, thresholds = roc_curve(y_train, y_train_score)\n",
    "plt.plot(fpr, tpr, '.')\n",
    "plt.show()"
   ]
  },
  {
   "cell_type": "code",
   "execution_count": null,
   "metadata": {},
   "outputs": [],
   "source": [
    "fpr, tpr, thresholds = roc_curve(y_test, y_test_score)\n",
    "plt.plot(fpr, tpr, '.')\n",
    "plt.show()"
   ]
  },
  {
   "cell_type": "code",
   "execution_count": null,
   "metadata": {},
   "outputs": [],
   "source": []
  }
 ],
 "metadata": {
  "kernelspec": {
   "display_name": "Python 3",
   "language": "python",
   "name": "python3"
  },
  "language_info": {
   "codemirror_mode": {
    "name": "ipython",
    "version": 3
   },
   "file_extension": ".py",
   "mimetype": "text/x-python",
   "name": "python",
   "nbconvert_exporter": "python",
   "pygments_lexer": "ipython3",
   "version": "3.6.4"
  }
 },
 "nbformat": 4,
 "nbformat_minor": 2
}
