{
 "cells": [
  {
   "cell_type": "code",
   "execution_count": 1,
   "metadata": {},
   "outputs": [],
   "source": [
    "import pandas as pd\n",
    "import numpy as np\n",
    "import matplotlib.pyplot as plt\n",
    "from sklearn.preprocessing import StandardScaler\n",
    "from sklearn.svm import OneClassSVM\n",
    "from sklearn.ensemble import IsolationForest\n",
    "from sklearn.neighbors import LocalOutlierFactor\n",
    "from sklearn.covariance import EllipticEnvelope\n",
    "from sklearn.metrics import auc, precision_recall_curve, precision_score, recall_score, f1_score, confusion_matrix"
   ]
  },
  {
   "cell_type": "code",
   "execution_count": 2,
   "metadata": {},
   "outputs": [],
   "source": [
    "X_train = pd.read_csv('data/X_train.csv')\n",
    "X_test = pd.read_csv('data/X_test.csv')\n",
    "y_train = pd.read_csv('data/y_train.csv', header=None)[0]\n",
    "y_test = pd.read_csv('data/y_test.csv', header=None)[0]\n",
    "scaler = StandardScaler()\n",
    "X_train['normAmount'] = scaler.fit_transform(np.array(X_train['Amount']).reshape(-1, 1))\n",
    "X_test['normAmount'] = scaler.transform(np.array(X_test['Amount']).reshape(-1, 1))\n",
    "X_train.drop(['Time', 'Amount'], axis=1, inplace=True)\n",
    "X_test.drop(['Time', 'Amount'], axis=1, inplace=True)"
   ]
  },
  {
   "cell_type": "code",
   "execution_count": 3,
   "metadata": {},
   "outputs": [],
   "source": [
    "X_train.drop(['V19','V8','V21','V26','V20','V1','V27','V2','V6','V28','V15','V5','V13','V22','V25','V23','V24'], axis=1, inplace=True)\n",
    "X_test.drop(['V19','V8','V21','V26','V20','V1','V27','V2','V6','V28','V15','V5','V13','V22','V25','V23','V24'], axis=1, inplace=True)"
   ]
  },
  {
   "cell_type": "code",
   "execution_count": 4,
   "metadata": {},
   "outputs": [
    {
     "data": {
      "text/plain": [
       "0.0016853594430288317"
      ]
     },
     "execution_count": 4,
     "metadata": {},
     "output_type": "execute_result"
    }
   ],
   "source": [
    "cnts = y_train.value_counts().tolist()\n",
    "cnts[1] / sum(cnts)"
   ]
  },
  {
   "cell_type": "code",
   "execution_count": 5,
   "metadata": {},
   "outputs": [
    {
     "data": {
      "text/plain": [
       "0.0018257785892349286"
      ]
     },
     "execution_count": 5,
     "metadata": {},
     "output_type": "execute_result"
    }
   ],
   "source": [
    "cnts = y_test.value_counts().tolist()\n",
    "cnts[1] / sum(cnts)"
   ]
  },
  {
   "cell_type": "code",
   "execution_count": 6,
   "metadata": {},
   "outputs": [],
   "source": [
    "def print_metrics(y_train, y_train_pred, y_test, y_test_pred):\n",
    "    print (\"---Train---\")\n",
    "    print (\"Precision: %.4f\" % (precision_score(y_train, y_train_pred)))\n",
    "    print (\"Recall: %.4f\" % (recall_score(y_train, y_train_pred)))\n",
    "    print (\"F1: %.4f\" % (f1_score(y_train, y_train_pred)))\n",
    "    print (\"Confusion matrix:\")\n",
    "    print (confusion_matrix(y_train, y_train_pred))\n",
    "    print (\"\\n---Test---\")\n",
    "    print (\"Precision: %.4f\" % (precision_score(y_test, y_test_pred)))\n",
    "    print (\"Recall: %.4f\" % (recall_score(y_test, y_test_pred)))\n",
    "    print (\"F1: %.4f\" % (f1_score(y_test, y_test_pred)))\n",
    "    print (\"Confusion matrix:\")\n",
    "    print (confusion_matrix(y_test, y_test_pred))\n",
    "\n",
    "def aucpr(y_true, y_score):\n",
    "    precision, recall, threshold = precision_recall_curve(y_true, y_score)\n",
    "    indices = np.argsort(precision)\n",
    "    precision = precision[indices]\n",
    "    recall = recall[indices]\n",
    "    plt.plot(recall, precision, '.')\n",
    "    plt.show()\n",
    "    return auc(precision, recall)"
   ]
  },
  {
   "cell_type": "code",
   "execution_count": null,
   "metadata": {},
   "outputs": [],
   "source": [
    "train_prec = []\n",
    "test_prec = []\n",
    "train_rec = []\n",
    "test_rec = []\n",
    "train_f1 = []\n",
    "test_f1 = []\n",
    "neighs = [10, 20, 50, 100, 150, 200, 500]\n",
    "for neigh in neighs:\n",
    "    lof = LocalOutlierFactor(n_neighbors=neigh, algorithm='auto', metric='euclidean', contamination=0.0168, novelty=True, n_jobs=3)\n",
    "    lof.fit(X_train)\n",
    "    \n",
    "    y_train_pred = lof.predict(X_train)\n",
    "    y_test_pred = lof.predict(X_test)\n",
    "    y_train_pred = np.array([pred==-1 for pred in y_train_pred], dtype=int)\n",
    "    y_test_pred = np.array([pred==-1 for pred in y_test_pred], dtype=int)\n",
    "    \n",
    "    train_prec.append(precision_score(y_train, y_train_pred))\n",
    "    test_prec.append(precision_score(y_test, y_test_pred))\n",
    "    train_rec.append(recall_score(y_train, y_train_pred))\n",
    "    test_rec.append(recall_score(y_test, y_test_pred))\n",
    "    train_f1.append(f1_score(y_train, y_train_pred))\n",
    "    test_f1.append(f1_score(y_test, y_test_pred))\n",
    "\n",
    "plt.plot(neighs, train_prec, label='train')\n",
    "plt.plot(neighs, test_prec, label='test')\n",
    "plt.title(\"Precision - num neighbors\")\n",
    "plt.legend()\n",
    "plt.show()\n",
    "    \n",
    "plt.plot(neighs, train_rec, label='train')\n",
    "plt.plot(neighs, test_rec, label='test')\n",
    "plt.title(\"Recall - num neighbors\")\n",
    "plt.legend()\n",
    "plt.show()    \n",
    "\n",
    "plt.plot(neighs, train_f1, label='train')\n",
    "plt.plot(neighs, test_f1, label='test')\n",
    "plt.title(\"F1 - num neighbors\")\n",
    "plt.legend()\n",
    "plt.show()"
   ]
  },
  {
   "cell_type": "code",
   "execution_count": null,
   "metadata": {},
   "outputs": [],
   "source": []
  },
  {
   "cell_type": "code",
   "execution_count": null,
   "metadata": {},
   "outputs": [],
   "source": []
  },
  {
   "cell_type": "code",
   "execution_count": 8,
   "metadata": {
    "scrolled": true
   },
   "outputs": [
    {
     "name": "stdout",
     "output_type": "stream",
     "text": [
      "---Train---\n",
      "Precision: 0.0338\n",
      "Recall: 0.2440\n",
      "F1: 0.0594\n",
      "Confusion matrix:\n",
      "[[196684   2344]\n",
      " [   254     82]]\n",
      "---Test---\n",
      "Precision: 0.0282\n",
      "Recall: 0.2692\n",
      "F1: 0.0510\n",
      "Confusion matrix:\n",
      "[[83838  1449]\n",
      " [  114    42]]\n"
     ]
    },
    {
     "data": {
      "image/png": "[encoded data removed]",
      "text/plain": [
       "<matplotlib.figure.Figure at 0x7f91dcbba588>"
      ]
     },
     "metadata": {
      "needs_background": "light"
     },
     "output_type": "display_data"
    },
    {
     "data": {
      "image/png": "[encoded data removed]",
      "text/plain": [
       "<matplotlib.figure.Figure at 0x7f91dcb90518>"
      ]
     },
     "metadata": {
      "needs_background": "light"
     },
     "output_type": "display_data"
    },
    {
     "data": {
      "text/plain": [
       "(0.03675477009070843, 0.019455190680810433)"
      ]
     },
     "execution_count": 8,
     "metadata": {},
     "output_type": "execute_result"
    }
   ],
   "source": [
    "lof = LocalOutlierFactor(n_neighbors=10, algorithm='auto', metric='euclidean', contamination=0.0168, novelty=True, n_jobs=3)\n",
    "lof.fit(X_train)\n",
    "\n",
    "y_train_pred = lof.predict(X_train)\n",
    "y_test_pred = lof.predict(X_test)\n",
    "y_train_pred = np.array([pred==-1 for pred in y_train_pred], dtype=int)\n",
    "y_test_pred = np.array([pred==-1 for pred in y_test_pred], dtype=int)\n",
    "print_metrics(y_train, y_train_pred, y_test, y_test_pred)\n",
    "\n",
    "y_train_score = -lof.score_samples(X_train)\n",
    "y_test_score = -lof.score_samples(X_test)\n",
    "aucpr(y_train, y_train_score), aucpr(y_test, y_test_score)"
   ]
  },
  {
   "cell_type": "code",
   "execution_count": null,
   "metadata": {},
   "outputs": [],
   "source": []
  }
 ],
 "metadata": {
  "kernelspec": {
   "display_name": "Python 3",
   "language": "python",
   "name": "python3"
  },
  "language_info": {
   "codemirror_mode": {
    "name": "ipython",
    "version": 3
   },
   "file_extension": ".py",
   "mimetype": "text/x-python",
   "name": "python",
   "nbconvert_exporter": "python",
   "pygments_lexer": "ipython3",
   "version": "3.6.4"
  }
 },
 "nbformat": 4,
 "nbformat_minor": 2
}
