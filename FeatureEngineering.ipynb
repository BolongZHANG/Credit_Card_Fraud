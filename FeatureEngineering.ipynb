{
 "cells": [
  {
   "cell_type": "code",
   "execution_count": 1,
   "metadata": {},
   "outputs": [
    {
     "name": "stderr",
     "output_type": "stream",
     "text": [
      "/home/wangsun/anaconda3/lib/python3.6/importlib/_bootstrap.py:219: RuntimeWarning: numpy.dtype size changed, may indicate binary incompatibility. Expected 96, got 88\n",
      "  return f(*args, **kwds)\n"
     ]
    }
   ],
   "source": [
    "import pandas as pd\n",
    "from sklearn.ensemble import RandomForestClassifier"
   ]
  },
  {
   "cell_type": "code",
   "execution_count": 3,
   "metadata": {},
   "outputs": [],
   "source": [
    "data = pd.read_csv('data/creditcard.csv')\n",
    "data.drop(['Time', 'Amount'], axis=1, inplace=True)\n",
    "X = data.iloc[:, :-1]\n",
    "y = data.iloc[:, -1]"
   ]
  },
  {
   "cell_type": "code",
   "execution_count": 5,
   "metadata": {},
   "outputs": [
    {
     "data": {
      "text/plain": [
       "RandomForestClassifier(bootstrap=True, class_weight=None, criterion='entropy',\n",
       "            max_depth=None, max_features='auto', max_leaf_nodes=None,\n",
       "            min_impurity_decrease=0.0, min_impurity_split=None,\n",
       "            min_samples_leaf=1, min_samples_split=2,\n",
       "            min_weight_fraction_leaf=0.0, n_estimators=100, n_jobs=3,\n",
       "            oob_score=False, random_state=0, verbose=0, warm_start=False)"
      ]
     },
     "execution_count": 5,
     "metadata": {},
     "output_type": "execute_result"
    }
   ],
   "source": [
    "rf = RandomForestClassifier(n_estimators=100 , criterion='entropy', n_jobs=3, random_state=0)\n",
    "rf.fit(X, y)"
   ]
  },
  {
   "cell_type": "code",
   "execution_count": 8,
   "metadata": {},
   "outputs": [
    {
     "data": {
      "text/plain": [
       "[(0.18240053481425814, 'V17'),\n",
       " (0.14446696639991408, 'V14'),\n",
       " (0.13234432564343263, 'V12'),\n",
       " (0.10144749886503578, 'V10'),\n",
       " (0.07745576059833321, 'V11'),\n",
       " (0.042240973230260374, 'V16'),\n",
       " (0.0389204552302894, 'V4'),\n",
       " (0.03744517002582191, 'V3'),\n",
       " (0.029923253055630834, 'V7'),\n",
       " (0.027871587945440472, 'V9'),\n",
       " (0.020816197155352326, 'V18'),\n",
       " (0.012702062204011521, 'V19'),\n",
       " (0.01204392865413024, 'V8'),\n",
       " (0.01195397426630823, 'V21'),\n",
       " (0.011785187869373942, 'V26'),\n",
       " (0.011574249107405848, 'V20'),\n",
       " (0.011004386133911468, 'V1'),\n",
       " (0.01059821400203368, 'V27'),\n",
       " (0.009946781922962153, 'V2'),\n",
       " (0.008923898903588605, 'V6'),\n",
       " (0.008809189891428816, 'V28'),\n",
       " (0.008688311090286938, 'V15'),\n",
       " (0.008686891678194057, 'V5'),\n",
       " (0.008595315312412704, 'V13'),\n",
       " (0.007961248826809937, 'V22'),\n",
       " (0.007293445325850915, 'V25'),\n",
       " (0.007090864756069252, 'V23'),\n",
       " (0.007009327091452588, 'V24')]"
      ]
     },
     "execution_count": 8,
     "metadata": {},
     "output_type": "execute_result"
    }
   ],
   "source": [
    "sorted(zip(rf.feature_importances_, X.columns), key=lambda x: -x[0])"
   ]
  },
  {
   "cell_type": "markdown",
   "metadata": {},
   "source": [
    "## drop\n",
    "\n",
    "['V19','V8','V21','V26','V20','V1','V27','V2','V6','V28','V15','V5','V13','V22','V25','V23','V24']"
   ]
  },
  {
   "cell_type": "code",
   "execution_count": null,
   "metadata": {},
   "outputs": [],
   "source": []
  }
 ],
 "metadata": {
  "kernelspec": {
   "display_name": "Python 3",
   "language": "python",
   "name": "python3"
  },
  "language_info": {
   "codemirror_mode": {
    "name": "ipython",
    "version": 3
   },
   "file_extension": ".py",
   "mimetype": "text/x-python",
   "name": "python",
   "nbconvert_exporter": "python",
   "pygments_lexer": "ipython3",
   "version": "3.6.4"
  }
 },
 "nbformat": 4,
 "nbformat_minor": 2
}
