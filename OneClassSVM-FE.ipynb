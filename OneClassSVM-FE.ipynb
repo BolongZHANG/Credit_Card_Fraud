{
 "cells": [
  {
   "cell_type": "code",
   "execution_count": 1,
   "metadata": {},
   "outputs": [],
   "source": [
    "import pandas as pd\n",
    "import numpy as np\n",
    "import matplotlib.pyplot as plt\n",
    "from sklearn.preprocessing import StandardScaler\n",
    "from sklearn.svm import OneClassSVM\n",
    "from sklearn.ensemble import IsolationForest\n",
    "from sklearn.neighbors import LocalOutlierFactor\n",
    "from sklearn.covariance import EllipticEnvelope\n",
    "from sklearn.metrics import auc, precision_recall_curve, precision_score, recall_score, f1_score, confusion_matrix"
   ]
  },
  {
   "cell_type": "code",
   "execution_count": 2,
   "metadata": {},
   "outputs": [],
   "source": [
    "X_train = pd.read_csv('data/X_train.csv')\n",
    "X_test = pd.read_csv('data/X_test.csv')\n",
    "y_train = pd.read_csv('data/y_train.csv', header=None)[0]\n",
    "y_test = pd.read_csv('data/y_test.csv', header=None)[0]\n",
    "scaler = StandardScaler()\n",
    "X_train['normAmount'] = scaler.fit_transform(np.array(X_train['Amount']).reshape(-1, 1))\n",
    "X_test['normAmount'] = scaler.transform(np.array(X_test['Amount']).reshape(-1, 1))\n",
    "X_train.drop(['Time', 'Amount'], axis=1, inplace=True)\n",
    "X_test.drop(['Time', 'Amount'], axis=1, inplace=True)"
   ]
  },
  {
   "cell_type": "code",
   "execution_count": 3,
   "metadata": {},
   "outputs": [],
   "source": [
    "X_train.drop(['V19','V8','V21','V26','V20','V1','V27','V2','V6','V28','V15','V5','V13','V22','V25','V23','V24'], axis=1, inplace=True)\n",
    "X_test.drop(['V19','V8','V21','V26','V20','V1','V27','V2','V6','V28','V15','V5','V13','V22','V25','V23','V24'], axis=1, inplace=True)"
   ]
  },
  {
   "cell_type": "code",
   "execution_count": 4,
   "metadata": {},
   "outputs": [],
   "source": [
    "def print_metrics(y_train, y_train_pred, y_test, y_test_pred):\n",
    "    print (\"---Train---\")\n",
    "    print (\"Precision: %.4f\" % (precision_score(y_train, y_train_pred)))\n",
    "    print (\"Recall: %.4f\" % (recall_score(y_train, y_train_pred)))\n",
    "    print (\"F1: %.4f\" % (f1_score(y_train, y_train_pred)))\n",
    "    print (\"Confusion matrix:\")\n",
    "    print (confusion_matrix(y_train, y_train_pred))\n",
    "    print (\"\\n---Test---\")\n",
    "    print (\"Precision: %.4f\" % (precision_score(y_test, y_test_pred)))\n",
    "    print (\"Recall: %.4f\" % (recall_score(y_test, y_test_pred)))\n",
    "    print (\"F1: %.4f\" % (f1_score(y_test, y_test_pred)))\n",
    "    print (\"Confusion matrix:\")\n",
    "    print (confusion_matrix(y_test, y_test_pred))\n",
    "\n",
    "def aucpr(y_true, y_score):\n",
    "    precision, recall, threshold = precision_recall_curve(y_true, y_score)\n",
    "    indices = np.argsort(precision)\n",
    "    precision = precision[indices]\n",
    "    recall = recall[indices]\n",
    "    plt.plot(recall, precision, '.')\n",
    "    plt.show()\n",
    "    return auc(precision, recall)"
   ]
  },
  {
   "cell_type": "code",
   "execution_count": null,
   "metadata": {},
   "outputs": [],
   "source": [
    "train_prec = []\n",
    "test_prec = []\n",
    "train_rec = []\n",
    "test_rec = []\n",
    "train_f1 = []\n",
    "test_f1 = []\n",
    "for ga in [0.1, 0.3, 0.5, 0.7, 0.9]:\n",
    "    ocsvm = OneClassSVM(gamma=ga, random_state=0)\n",
    "    ocsvm.fit(X_train)\n",
    "\n",
    "    y_train_pred = lof.predict(X_train)\n",
    "    y_test_pred = lof.predict(X_test)\n",
    "    y_train_pred = np.array([pred==-1 for pred in y_train_pred], dtype=int)\n",
    "    y_test_pred = np.array([pred==-1 for pred in y_test_pred], dtype=int)\n",
    "    \n",
    "    train_prec.append(precision_score(y_train, y_train_pred))\n",
    "    test_prec.append(precision_score(y_test, y_test_pred))\n",
    "    train_rec.append(recall_score(y_train, y_train_pred))\n",
    "    test_rec.append(recall_score(y_test, y_test_pred))\n",
    "    train_f1.append(f1_score(y_train, y_train_pred))\n",
    "    test_f1.append(f1_score(y_test, y_test_pred))\n",
    "    \n",
    "plt.plot(neighs, train_prec, label='train')\n",
    "plt.plot(neighs, test_prec, label='test')\n",
    "plt.title(\"Precision - max_samples\")\n",
    "plt.legend()\n",
    "plt.show()\n",
    "    \n",
    "plt.plot(neighs, train_rec, label='train')\n",
    "plt.plot(neighs, test_rec, label='test')\n",
    "plt.title(\"Recall - max_samples\")\n",
    "plt.legend()\n",
    "plt.show()    \n",
    "\n",
    "plt.plot(neighs, train_f1, label='train')\n",
    "plt.plot(neighs, test_f1, label='test')\n",
    "plt.title(\"F1 - max_samples\")\n",
    "plt.legend()\n",
    "plt.show()"
   ]
  },
  {
   "cell_type": "code",
   "execution_count": null,
   "metadata": {},
   "outputs": [],
   "source": [
    "ocsvm = OneClassSVM(gamma=0.3, nu=0.01)\n",
    "ocsvm.fit(X_train)\n",
    "\n",
    "y_train_pred = ocsvm.predict(X_train)\n",
    "y_test_pred = ocsvm.predict(X_test)\n",
    "y_train_pred = np.array([pred==-1 for pred in y_train_pred], dtype=int)\n",
    "y_test_pred = np.array([pred==-1 for pred in y_test_pred], dtype=int)\n",
    "print_metrics(y_train, y_train_pred, y_test, y_test_pred)\n",
    "\n",
    "y_train_score = -ocsvm.score_samples(X_train)\n",
    "y_test_score = -ocsvm.score_samples(X_test)\n",
    "aucpr(y_train, y_train_score), aucpr(y_test, y_test_score)"
   ]
  },
  {
   "cell_type": "code",
   "execution_count": null,
   "metadata": {},
   "outputs": [],
   "source": []
  }
 ],
 "metadata": {
  "kernelspec": {
   "display_name": "Python 3",
   "language": "python",
   "name": "python3"
  },
  "language_info": {
   "codemirror_mode": {
    "name": "ipython",
    "version": 3
   },
   "file_extension": ".py",
   "mimetype": "text/x-python",
   "name": "python",
   "nbconvert_exporter": "python",
   "pygments_lexer": "ipython3",
   "version": "3.6.4"
  }
 },
 "nbformat": 4,
 "nbformat_minor": 2
}
